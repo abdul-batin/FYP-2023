{
 "cells": [
  {
   "cell_type": "code",
   "execution_count": 5,
   "id": "36952886",
   "metadata": {},
   "outputs": [],
   "source": [
    "# Import the required modules\n",
    "import xmltodict\n",
    "import cv2\n",
    "import os\n",
    "import numpy as np\n",
    "\n",
    "images = os.listdir('dataset2/Dataset/x-ray/images/')\n",
    "\n",
    "my_dict = {}\n",
    "\n",
    "for i in images:\n",
    "    image_num = i[:-4]\n",
    "    with open('dataset2/Dataset/x-ray/xmls/' + image_num + '.xml', 'r', encoding='utf-8') as file:\n",
    "        my_xml = file.read()\n",
    "    my_dict[image_num] = xmltodict.parse(my_xml)\n",
    "    if type(my_dict[image_num]['annotation']['object']) is not list:\n",
    "        my_dict[image_num]['annotation']['object'] = [my_dict[image_num]['annotation']['object']]"
   ]
  },
  {
   "cell_type": "code",
   "execution_count": 6,
   "id": "6cbdf114",
   "metadata": {},
   "outputs": [],
   "source": [
    "def buildBox(image_id, my_dict):\n",
    "    # Use xmltodict to parse and convert\n",
    "    # the XML document\n",
    "    \n",
    "    image = cv2.imread('dataset2/Dataset/x-ray/images/' + image_id + '.jpg')\n",
    "    \n",
    "    bnd_boxes = my_dict[image_id]['annotation']['object']\n",
    "    \n",
    "    for bnd_box in bnd_boxes:  \n",
    "        xmin = int(bnd_box['bndbox']['xmin'])\n",
    "        ymin = int(bnd_box['bndbox']['ymin'])\n",
    "        xmax = int(bnd_box['bndbox']['xmax'])\n",
    "        ymax = int(bnd_box['bndbox']['ymax'])\n",
    "\n",
    "        start_point = (xmin, ymin)\n",
    "        end_point = (xmax, ymax)\n",
    "\n",
    "        color = (255, 0, 0)\n",
    "        thickness = 2\n",
    "\n",
    "        image = cv2.rectangle(image, start_point, end_point, color, thickness)\n",
    "        cv2.putText(image, bnd_box['name'], (xmin, ymin+10), cv2.FONT_HERSHEY_SIMPLEX, 0.9, (36,255,12), 2)\n",
    "    \n",
    "    window_name = 'Image'\n",
    "    cv2.imshow(window_name, image)\n",
    "\n",
    "    cv2.waitKey(0)\n",
    "    cv2.destroyAllWindows()"
   ]
  },
  {
   "cell_type": "code",
   "execution_count": 7,
   "id": "94d01dcf",
   "metadata": {},
   "outputs": [],
   "source": [
    "# import os\n",
    "# import numpy as np\n",
    "\n",
    "# entries = os.listdir('dataset2/Dataset/x-ray/images/')\n",
    "\n",
    "# image_num = []\n",
    "\n",
    "# for i in entries:\n",
    "#     image_num.append(i[:-4])"
   ]
  },
  {
   "cell_type": "code",
   "execution_count": 8,
   "id": "d4da9189",
   "metadata": {},
   "outputs": [],
   "source": [
    "x = 20\n",
    "for i in my_dict:\n",
    "    buildBox(i, my_dict)\n",
    "    x = x - 1\n",
    "    if x == 0:\n",
    "        break\n",
    "#     if type(my_dict[i]['annotation']['object']) is list:\n",
    "#         for j in my_dict[i]['annotation']['object']:\n",
    "#             objects.append(j['name'])\n",
    "#     else:\n",
    "#         objects.append(my_dict[i]['annotation']['object']['name'])"
   ]
  },
  {
   "cell_type": "code",
   "execution_count": null,
   "id": "5fe7390a",
   "metadata": {},
   "outputs": [],
   "source": [
    "my_dict['1009']['annotation']['object']\n",
    "image = cv2.imread('dataset2/Dataset/x-ray/images/' + '1009' + '.jpg')"
   ]
  },
  {
   "cell_type": "code",
   "execution_count": null,
   "id": "b46dc760",
   "metadata": {},
   "outputs": [],
   "source": [
    "image = cv2.rectangle(image, (50,0), (100,100), (255, 0 , 0), 2)"
   ]
  },
  {
   "cell_type": "code",
   "execution_count": 10,
   "id": "6392e9ea",
   "metadata": {},
   "outputs": [],
   "source": [
    "import cv2\n",
    "import xmltodict\n",
    "\n",
    "for tp in range(1, 20):\n",
    "    image_id = str(tp)\n",
    "    image = cv2.imread('dataset2/Dataset/colored/images/' + image_id + '.jpg')\n",
    "\n",
    "    with open('dataset2/Dataset/colored/xmls/' + image_id + '.xml', 'r', encoding='utf-8') as file:\n",
    "            my_xml = file.read()\n",
    "\n",
    "    my_dict = xmltodict.parse(my_xml)\n",
    "    my_dict = my_dict['annotation']['object']\n",
    "\n",
    "    for bnd_box in my_dict:  \n",
    "        xmin = int(bnd_box['bndbox']['xmin'])\n",
    "        ymin = int(bnd_box['bndbox']['ymin'])\n",
    "        xmax = int(bnd_box['bndbox']['xmax'])\n",
    "        ymax = int(bnd_box['bndbox']['ymax'])\n",
    "\n",
    "        start_point = (xmin, ymin)\n",
    "        end_point = (xmax, ymax)\n",
    "\n",
    "        color = (255, 0, 0)\n",
    "        thickness = 2\n",
    "\n",
    "        image = cv2.rectangle(image, start_point, end_point, color, thickness)\n",
    "        cv2.putText(image, bnd_box['name'], (xmin, ymin), cv2.FONT_HERSHEY_SIMPLEX, 0.5, (36,255,12), 1)\n",
    "\n",
    "    window_name = 'Image'\n",
    "    cv2.imshow(window_name, image)\n",
    "\n",
    "    cv2.waitKey(0)\n",
    "    cv2.destroyAllWindows()"
   ]
  },
  {
   "cell_type": "code",
   "execution_count": null,
   "id": "81d3ac30",
   "metadata": {},
   "outputs": [],
   "source": [
    "\n"
   ]
  },
  {
   "cell_type": "code",
   "execution_count": null,
   "id": "3b239674",
   "metadata": {},
   "outputs": [],
   "source": [
    "my_dict"
   ]
  },
  {
   "cell_type": "code",
   "execution_count": null,
   "id": "86a5410c",
   "metadata": {},
   "outputs": [],
   "source": []
  }
 ],
 "metadata": {
  "kernelspec": {
   "display_name": "Python 3 (ipykernel)",
   "language": "python",
   "name": "python3"
  },
  "language_info": {
   "codemirror_mode": {
    "name": "ipython",
    "version": 3
   },
   "file_extension": ".py",
   "mimetype": "text/x-python",
   "name": "python",
   "nbconvert_exporter": "python",
   "pygments_lexer": "ipython3",
   "version": "3.9.13"
  }
 },
 "nbformat": 4,
 "nbformat_minor": 5
}
